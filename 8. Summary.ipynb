{
  "nbformat": 4,
  "nbformat_minor": 0,
  "metadata": {
    "colab": {
      "provenance": []
    },
    "kernelspec": {
      "name": "python3",
      "display_name": "Python 3"
    },
    "language_info": {
      "name": "python"
    }
  },
  "cells": [
    {
      "cell_type": "markdown",
      "source": [
        "# SUMMARY"
      ],
      "metadata": {
        "id": "0Tqio16BJlO6"
      }
    },
    {
      "cell_type": "code",
      "execution_count": null,
      "metadata": {
        "colab": {
          "base_uri": "https://localhost:8080/"
        },
        "id": "5RPM9KyE96xl",
        "outputId": "791a11c1-1569-4443-c226-79fd9b9cf772"
      },
      "outputs": [
        {
          "output_type": "stream",
          "name": "stdout",
          "text": [
            "+-----------+----------------------+-------------------------+\n",
            "| Data Type | With Answer Verifier | Without Answer Verifier |\n",
            "+-----------+----------------------+-------------------------+\n",
            "| Challenge |  41.92431972789116   |    35.70578231292517    |\n",
            "|    Easy   |   68.5472250947949   |    59.07359531196139    |\n",
            "+-----------+----------------------+-------------------------+\n"
          ]
        }
      ],
      "source": [
        "from prettytable import PrettyTable\n",
        "\n",
        "# Create a table\n",
        "table = PrettyTable()\n",
        "\n",
        "# Define the table headers\n",
        "table.field_names = [\"Data Type\", \"With Answer Verifier\", \"Without Answer Verifier\"]\n",
        "\n",
        "# Add rows\n",
        "table.add_row([\"Challenge\", challenge_score_with_answer_verifier, challenge_score_without_answer_verifier])\n",
        "table.add_row([\"Easy\", easy_score_with_answer_verifier, easy_score_without_answer_verifier])\n",
        "\n",
        "# Print the table\n",
        "print(table)"
      ]
    }
  ]
}